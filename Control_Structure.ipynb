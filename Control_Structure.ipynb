{
  "nbformat": 4,
  "nbformat_minor": 0,
  "metadata": {
    "colab": {
      "name": "Control Structure.ipynb",
      "provenance": [],
      "authorship_tag": "ABX9TyMoocH9ciaE31wOD3J0vciK",
      "include_colab_link": true
    },
    "kernelspec": {
      "name": "python3",
      "display_name": "Python 3"
    },
    "language_info": {
      "name": "python"
    }
  },
  "cells": [
    {
      "cell_type": "markdown",
      "metadata": {
        "id": "view-in-github",
        "colab_type": "text"
      },
      "source": [
        "<a href=\"https://colab.research.google.com/github/rjtelmo/CPEN-21A-ECE-2-2/blob/main/Control_Structure.ipynb\" target=\"_parent\"><img src=\"https://colab.research.google.com/assets/colab-badge.svg\" alt=\"Open In Colab\"/></a>"
      ]
    },
    {
      "cell_type": "markdown",
      "metadata": {
        "id": "xn3OF2hYxgRh"
      },
      "source": [
        "##If Statement "
      ]
    },
    {
      "cell_type": "code",
      "metadata": {
        "colab": {
          "base_uri": "https://localhost:8080/"
        },
        "id": "L_wtKH6xxavy",
        "outputId": "fabcaac1-264a-4f59-84ba-1d00d46b72b8"
      },
      "source": [
        "a = 12\n",
        "b = 100\n",
        "if b>a:\n",
        "  print (\"b is greater than a\")"
      ],
      "execution_count": 3,
      "outputs": [
        {
          "output_type": "stream",
          "name": "stdout",
          "text": [
            "b is greater than a\n"
          ]
        }
      ]
    },
    {
      "cell_type": "markdown",
      "metadata": {
        "id": "drQBYjb-ymrM"
      },
      "source": [
        "##Elif Statement"
      ]
    },
    {
      "cell_type": "code",
      "metadata": {
        "colab": {
          "base_uri": "https://localhost:8080/"
        },
        "id": "nURf9U3pxqz2",
        "outputId": "8e463d46-f83f-48b0-d814-6d83343d5889"
      },
      "source": [
        "a = 12\n",
        "b = 100\n",
        "if b<a:\n",
        "  print (\"b is less than a\")\n",
        "elif b>a:\n",
        "  print (\"b is greater than a\")"
      ],
      "execution_count": 5,
      "outputs": [
        {
          "output_type": "stream",
          "name": "stdout",
          "text": [
            "b is greater than a\n"
          ]
        }
      ]
    },
    {
      "cell_type": "markdown",
      "metadata": {
        "id": "ak0m0xvazBFZ"
      },
      "source": [
        "##Else Statement"
      ]
    },
    {
      "cell_type": "code",
      "metadata": {
        "colab": {
          "base_uri": "https://localhost:8080/"
        },
        "id": "jkaEuf9FzDCo",
        "outputId": "e9ea4962-6675-45cc-eb93-535a8f555829"
      },
      "source": [
        "a = 12\n",
        "b = 12\n",
        "if b<a:\n",
        "  print (\"b is less than a\")\n",
        "elif b>a:\n",
        "  print (\"b is greater than a\")\n",
        "else:\n",
        "  print(\"a is equal to b\")"
      ],
      "execution_count": 7,
      "outputs": [
        {
          "output_type": "stream",
          "name": "stdout",
          "text": [
            "a is equal to b\n"
          ]
        }
      ]
    },
    {
      "cell_type": "markdown",
      "metadata": {
        "id": "vCjdnMNazueG"
      },
      "source": [
        "##Short Hand If...Else"
      ]
    },
    {
      "cell_type": "code",
      "metadata": {
        "colab": {
          "base_uri": "https://localhost:8080/"
        },
        "id": "wIEpjUONzzzu",
        "outputId": "b8290b91-4a41-4ff7-92b4-a0b9e5cd8306"
      },
      "source": [
        "a = 2\n",
        "b = 330\n",
        "print (\"A\") if a>b else print (\"B\")"
      ],
      "execution_count": 10,
      "outputs": [
        {
          "output_type": "stream",
          "name": "stdout",
          "text": [
            "B\n"
          ]
        }
      ]
    },
    {
      "cell_type": "code",
      "metadata": {
        "colab": {
          "base_uri": "https://localhost:8080/"
        },
        "id": "5ibtljnS0Uz8",
        "outputId": "1fbbb21d-848d-4f60-ed29-530a602252e9"
      },
      "source": [
        "a = 420\n",
        "b = 330\n",
        "print (\"A\") if a>b else print (\"B\")"
      ],
      "execution_count": 11,
      "outputs": [
        {
          "output_type": "stream",
          "name": "stdout",
          "text": [
            "A\n"
          ]
        }
      ]
    },
    {
      "cell_type": "markdown",
      "metadata": {
        "id": "TKhBj7TK0byE"
      },
      "source": [
        "##And Condition"
      ]
    },
    {
      "cell_type": "code",
      "metadata": {
        "colab": {
          "base_uri": "https://localhost:8080/"
        },
        "id": "CvKiDUa30yMr",
        "outputId": "1d85b940-9bab-4531-b13a-c8019f0f7a36"
      },
      "source": [
        " a = 200\n",
        " b = 33\n",
        " c = 500\n",
        " if a>b and a<c:\n",
        "   print (\"The conditions need to be True\")"
      ],
      "execution_count": 21,
      "outputs": [
        {
          "output_type": "stream",
          "name": "stdout",
          "text": [
            "The conditions need to be True\n"
          ]
        }
      ]
    },
    {
      "cell_type": "markdown",
      "metadata": {
        "id": "7EysD_YK2Dcp"
      },
      "source": [
        "##Or Condition"
      ]
    },
    {
      "cell_type": "code",
      "metadata": {
        "colab": {
          "base_uri": "https://localhost:8080/"
        },
        "id": "LlvWMTte2FLk",
        "outputId": "b91a5c52-086b-4477-a6e7-f96a8d9cd8a5"
      },
      "source": [
        "a = 200\n",
        "b = 33\n",
        "c = 500\n",
        "if a>b or a<c:\n",
        "  print (\"The conditions need to be True\")"
      ],
      "execution_count": 24,
      "outputs": [
        {
          "output_type": "stream",
          "name": "stdout",
          "text": [
            "The conditions need to be True\n"
          ]
        }
      ]
    },
    {
      "cell_type": "code",
      "metadata": {
        "colab": {
          "base_uri": "https://localhost:8080/"
        },
        "id": "Gw9uJ_jO2VqM",
        "outputId": "e83521d5-75cd-4e76-fb59-b56f5fa2d163"
      },
      "source": [
        "a = 200\n",
        "b = 33\n",
        "c = 500\n",
        "if a>b or a<b:\n",
        "  print (\"One of the conditions is True\")"
      ],
      "execution_count": 28,
      "outputs": [
        {
          "output_type": "stream",
          "name": "stdout",
          "text": [
            "One of the conditions is True\n"
          ]
        }
      ]
    },
    {
      "cell_type": "markdown",
      "metadata": {
        "id": "CG-ORco12v04"
      },
      "source": [
        "##Nested If"
      ]
    },
    {
      "cell_type": "code",
      "metadata": {
        "colab": {
          "base_uri": "https://localhost:8080/"
        },
        "id": "bgJNPKdM2yDG",
        "outputId": "90caf631-4dc0-4779-c4b9-4ef3ea674fe7"
      },
      "source": [
        "a = 41\n",
        "\n",
        "if a>10:\n",
        "  print (\"Above ten,\")\n",
        "if a>20:\n",
        "  print (\"and also above 20!\")\n",
        "else:\n",
        "  print (\"but not above 20.\")"
      ],
      "execution_count": 31,
      "outputs": [
        {
          "output_type": "stream",
          "name": "stdout",
          "text": [
            "Above ten,\n",
            "and also above 20!\n"
          ]
        }
      ]
    },
    {
      "cell_type": "markdown",
      "metadata": {
        "id": "ENCLzwr84GxJ"
      },
      "source": [
        "##Nested If...Else"
      ]
    },
    {
      "cell_type": "code",
      "metadata": {
        "colab": {
          "base_uri": "https://localhost:8080/"
        },
        "id": "XDqVmqt44Mjs",
        "outputId": "72f01285-71c1-44f9-adbf-2018f522a73a"
      },
      "source": [
        "a = 4\n",
        "\n",
        "if a>10:\n",
        "  print (\"Above ten,\")\n",
        "  if a>20:\n",
        "    print (\"and also above 20!\")\n",
        "  else:\n",
        "    print (\"not above 20.\")\n",
        "else:\n",
        "  print (\"Below 10.\")"
      ],
      "execution_count": 84,
      "outputs": [
        {
          "output_type": "stream",
          "name": "stdout",
          "text": [
            "Below 10.\n"
          ]
        }
      ]
    },
    {
      "cell_type": "markdown",
      "metadata": {
        "id": "suqlY1465Jzb"
      },
      "source": [
        "##Example 1: Write a program that determines if the input age is qualified to vote or not. The qualifying age is 18 years old and above."
      ]
    },
    {
      "cell_type": "code",
      "metadata": {
        "colab": {
          "base_uri": "https://localhost:8080/"
        },
        "id": "hlawd7tz4w0O",
        "outputId": "99f68de8-8502-4220-aa73-b638dd939cd7"
      },
      "source": [
        "#The qualifying age to vote\n",
        "\n",
        "a = 18\n",
        "\n",
        "if a==18:\n",
        "  print (\"You are allowed to vote. \")\n",
        "elif a>18:\n",
        "  print (\"You are also allowed to vote.\")\n",
        "else: \n",
        "  print (\"You are not allowed to vote.\")"
      ],
      "execution_count": 71,
      "outputs": [
        {
          "output_type": "stream",
          "name": "stdout",
          "text": [
            "You are allowed to vote. \n"
          ]
        }
      ]
    },
    {
      "cell_type": "code",
      "metadata": {
        "colab": {
          "base_uri": "https://localhost:8080/"
        },
        "id": "uLIBiEMz9v68",
        "outputId": "f183003a-679c-4b1b-bd8c-6fa8c6eb4675"
      },
      "source": [
        "age = int(input(\"Please enter your age:\"))\n",
        "if age>=18:\n",
        "  print (\"You are allowed to vote.\")\n",
        "else:\n",
        "  print (\"You are not allowed to vote.\")"
      ],
      "execution_count": 75,
      "outputs": [
        {
          "output_type": "stream",
          "name": "stdout",
          "text": [
            "Please enter your age:18\n",
            "You are allowed to vote.\n"
          ]
        }
      ]
    },
    {
      "cell_type": "markdown",
      "metadata": {
        "id": "jPx2H5rs7cxK"
      },
      "source": [
        "##Example 2: Write a program that determines if the input number is POSITIVE or NEGATIVE. Consider 0 as positive (considering that it contains no negative sign)."
      ]
    },
    {
      "cell_type": "code",
      "metadata": {
        "colab": {
          "base_uri": "https://localhost:8080/"
        },
        "id": "pdPv67uz7qvS",
        "outputId": "1564b125-242c-4dc9-c27d-e6bcf017081d"
      },
      "source": [
        "a = 1\n",
        "\n",
        "if a==0:\n",
        "  print (\"It is a positive number.\")\n",
        "elif a>0:\n",
        "  print (\"It is a postive number.\")\n",
        "else:\n",
        "  print (\"It is a negative number.\")"
      ],
      "execution_count": 62,
      "outputs": [
        {
          "output_type": "stream",
          "name": "stdout",
          "text": [
            "It is a postive number.\n"
          ]
        }
      ]
    },
    {
      "cell_type": "code",
      "metadata": {
        "colab": {
          "base_uri": "https://localhost:8080/"
        },
        "id": "2CqYUawA8x-T",
        "outputId": "f0260f42-2026-4e23-c624-cbda4ec4628d"
      },
      "source": [
        "num = int(input(\"Enter a number:\"))\n",
        "if num>0:\n",
        "  print (\"You entered a postive number.\")\n",
        "elif num==0:\n",
        "  print (\"You entered a postive number.\")\n",
        "else:\n",
        "  print(\"You entered a negative number.\")"
      ],
      "execution_count": 73,
      "outputs": [
        {
          "output_type": "stream",
          "name": "stdout",
          "text": [
            "Enter a number:1\n",
            "You entered a postive number.\n"
          ]
        }
      ]
    },
    {
      "cell_type": "markdown",
      "metadata": {
        "id": "eaW9Iz0X-YX8"
      },
      "source": [
        "##Example 3: Write a program to determine if the grades are: \n",
        "          if \n",
        "                   grade>=75, \"Passed\"\n",
        "                   grade = 74, \"Remedial\"\n",
        "                   grade<74, \"Failed\"."
      ]
    },
    {
      "cell_type": "code",
      "metadata": {
        "colab": {
          "base_uri": "https://localhost:8080/"
        },
        "id": "HsaxaOTJ-1Tz",
        "outputId": "88212b40-4867-49fa-9c87-3cf272f7ca8a"
      },
      "source": [
        "grade = int(input(\"Enter a number:\"))\n",
        "\n",
        "if grade>=75:\n",
        "  print (\"Passed.\")\n",
        "elif grade==74:\n",
        "  print (\"Remedial.\")\n",
        "else:\n",
        "  print (\"Failed.\")"
      ],
      "execution_count": 85,
      "outputs": [
        {
          "output_type": "stream",
          "name": "stdout",
          "text": [
            "Enter a number:76\n",
            "Passed.\n"
          ]
        }
      ]
    }
  ]
}