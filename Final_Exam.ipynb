{
  "nbformat": 4,
  "nbformat_minor": 0,
  "metadata": {
    "colab": {
      "name": "Final Exam.ipynb",
      "provenance": [],
      "authorship_tag": "ABX9TyMv/zQAvOcwxvMJal50jPZu",
      "include_colab_link": true
    },
    "kernelspec": {
      "name": "python3",
      "display_name": "Python 3"
    },
    "language_info": {
      "name": "python"
    }
  },
  "cells": [
    {
      "cell_type": "markdown",
      "metadata": {
        "id": "view-in-github",
        "colab_type": "text"
      },
      "source": [
        "<a href=\"https://colab.research.google.com/github/rjtelmo/CPEN-21A-ECE-2-2/blob/main/Final_Exam.ipynb\" target=\"_parent\"><img src=\"https://colab.research.google.com/assets/colab-badge.svg\" alt=\"Open In Colab\"/></a>"
      ]
    },
    {
      "cell_type": "markdown",
      "source": [
        "##Problem Statement 1"
      ],
      "metadata": {
        "id": "zHxCFzvbuH5U"
      }
    },
    {
      "cell_type": "code",
      "source": [
        "sum = 0\n",
        "\n",
        "for x in [4,3,2,1,-1,-2,-3,-4,-5,-6]:\n",
        "  sum = sum+x\n",
        "\n",
        "print (sum)\n"
      ],
      "metadata": {
        "id": "MbOu56f0uKqV",
        "colab": {
          "base_uri": "https://localhost:8080/"
        },
        "outputId": "dd0678f0-0237-451f-e235-029d2be929d2"
      },
      "execution_count": 12,
      "outputs": [
        {
          "output_type": "stream",
          "name": "stdout",
          "text": [
            "-11\n"
          ]
        }
      ]
    },
    {
      "cell_type": "markdown",
      "source": [
        "##Problem Statement 2"
      ],
      "metadata": {
        "id": "Qwwys5Ndun-L"
      }
    },
    {
      "cell_type": "code",
      "source": [
        "a = 0\n",
        "b = []\n",
        "\n",
        "while a < 5:\n",
        "  a += 1\n",
        "  ab = int (input (\"Enter a number: \"))\n",
        "  b.append (ab)\n",
        "  bm = b[0] + b[-1]\n",
        "print (\"Numbers Input: \", b)\n",
        "print (bm)"
      ],
      "metadata": {
        "colab": {
          "base_uri": "https://localhost:8080/"
        },
        "id": "fsC3z1fMBT0i",
        "outputId": "44312400-237f-4e53-d50d-3d123da66854"
      },
      "execution_count": null,
      "outputs": [
        {
          "output_type": "stream",
          "name": "stdout",
          "text": [
            "Enter a number: 4\n",
            "Enter a number: 6\n",
            "Enter a number: 17\n",
            "Enter a number: 24\n",
            "Enter a number: 5\n",
            "Numbers Input:  [4, 6, 17, 24, 5]\n",
            "9\n"
          ]
        }
      ]
    },
    {
      "cell_type": "markdown",
      "source": [
        "##Problem Statement 3"
      ],
      "metadata": {
        "id": "TyJI6LqquriV"
      }
    },
    {
      "cell_type": "code",
      "source": [
        "num = int(input(\"Enter a number:\"))\n",
        "\n",
        "if num>= 90:\n",
        "  print (\"A\")\n",
        "else:\n",
        "  if num>=80:\n",
        "    print (\"B\")\n",
        "  else:\n",
        "    if num>=70:\n",
        "      print (\"C\")\n",
        "    else:\n",
        "      if num>=60:\n",
        "        print (\"D\")\n",
        "      else:\n",
        "        print (\"F\")\n"
      ],
      "metadata": {
        "colab": {
          "base_uri": "https://localhost:8080/"
        },
        "id": "P-VbT3yl3qGw",
        "outputId": "7c1f3623-5d21-4790-9a7b-2d2bba0a17c8"
      },
      "execution_count": 1,
      "outputs": [
        {
          "output_type": "stream",
          "name": "stdout",
          "text": [
            "Enter a number:73\n",
            "C\n"
          ]
        }
      ]
    }
  ]
}