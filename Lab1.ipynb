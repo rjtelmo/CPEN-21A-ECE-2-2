{
  "nbformat": 4,
  "nbformat_minor": 0,
  "metadata": {
    "colab": {
      "name": "Lab1.ipynb",
      "provenance": [],
      "authorship_tag": "ABX9TyPEdV0dO7xCZe42x9ka77aU",
      "include_colab_link": true
    },
    "kernelspec": {
      "name": "python3",
      "display_name": "Python 3"
    },
    "language_info": {
      "name": "python"
    }
  },
  "cells": [
    {
      "cell_type": "markdown",
      "metadata": {
        "id": "view-in-github",
        "colab_type": "text"
      },
      "source": [
        "<a href=\"https://colab.research.google.com/github/rjtelmo/CPEN-21A-ECE-2-2/blob/main/Lab1.ipynb\" target=\"_parent\"><img src=\"https://colab.research.google.com/assets/colab-badge.svg\" alt=\"Open In Colab\"/></a>"
      ]
    },
    {
      "cell_type": "markdown",
      "metadata": {
        "id": "JJ_80ox2c9ti"
      },
      "source": [
        "#Welcome to Python Programming "
      ]
    },
    {
      "cell_type": "code",
      "metadata": {
        "colab": {
          "base_uri": "https://localhost:8080/"
        },
        "id": "OCCIwz70mdzd",
        "outputId": "f4cb2a72-7fac-4d29-acdc-111df66a6ea4"
      },
      "source": [
        "name = input (\"What is your name?\")\n",
        "address = input (\"What is your address?\")\n",
        "age = int (input (\"What is your age?\")) \n",
        "\n",
        "print (f\"Name   : {name} \")\n",
        "print (f\"Address: {address} \")\n",
        "print ( f\"Age    : {age} \")"
      ],
      "execution_count": 25,
      "outputs": [
        {
          "output_type": "stream",
          "name": "stdout",
          "text": [
            "What is your name?Rona Joy C. Telmo\n",
            "What is your address?265A Ibaba St. Brgy. Guyam Malaki, Indang, Cavite\n",
            "What is your age?18 \n",
            "Name   : Rona Joy C. Telmo \n",
            "Address: 265A Ibaba St. Brgy. Guyam Malaki, Indang, Cavite \n",
            "Age    : 18 \n"
          ]
        }
      ]
    }
  ]
}