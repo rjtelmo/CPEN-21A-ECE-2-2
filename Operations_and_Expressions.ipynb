{
  "nbformat": 4,
  "nbformat_minor": 0,
  "metadata": {
    "colab": {
      "name": "Operations and Expressions",
      "provenance": [],
      "collapsed_sections": [],
      "authorship_tag": "ABX9TyPkjLqlwOJGcuoXnxWMN4A8",
      "include_colab_link": true
    },
    "kernelspec": {
      "name": "python3",
      "display_name": "Python 3"
    },
    "language_info": {
      "name": "python"
    }
  },
  "cells": [
    {
      "cell_type": "markdown",
      "metadata": {
        "id": "view-in-github",
        "colab_type": "text"
      },
      "source": [
        "<a href=\"https://colab.research.google.com/github/rjtelmo/CPEN-21A-ECE-2-2/blob/main/Operations_and_Expressions.ipynb\" target=\"_parent\"><img src=\"https://colab.research.google.com/assets/colab-badge.svg\" alt=\"Open In Colab\"/></a>"
      ]
    },
    {
      "cell_type": "markdown",
      "metadata": {
        "id": "tc8F2cFeshqI"
      },
      "source": [
        "##Boolean Operators "
      ]
    },
    {
      "cell_type": "code",
      "metadata": {
        "colab": {
          "base_uri": "https://localhost:8080/"
        },
        "id": "_PLl7ZaMsn1v",
        "outputId": "a17e1e42-1e2e-4704-d0c2-daa5549dd994"
      },
      "source": [
        "print (10>9)\n"
      ],
      "execution_count": 45,
      "outputs": [
        {
          "output_type": "stream",
          "name": "stdout",
          "text": [
            "True\n"
          ]
        }
      ]
    },
    {
      "cell_type": "code",
      "metadata": {
        "colab": {
          "base_uri": "https://localhost:8080/"
        },
        "id": "3xBYJJTgtbtw",
        "outputId": "3ad77a6f-4616-48b7-cfd6-cce5921902db"
      },
      "source": [
        "print (10==9)"
      ],
      "execution_count": 46,
      "outputs": [
        {
          "output_type": "stream",
          "name": "stdout",
          "text": [
            "False\n"
          ]
        }
      ]
    },
    {
      "cell_type": "code",
      "metadata": {
        "colab": {
          "base_uri": "https://localhost:8080/"
        },
        "id": "Vt2CtY9jtdz7",
        "outputId": "8b1d45ad-8df1-41c6-8047-cb5cb5bfcd56"
      },
      "source": [
        "print (10<9)"
      ],
      "execution_count": 47,
      "outputs": [
        {
          "output_type": "stream",
          "name": "stdout",
          "text": [
            "False\n"
          ]
        }
      ]
    },
    {
      "cell_type": "code",
      "metadata": {
        "colab": {
          "base_uri": "https://localhost:8080/"
        },
        "id": "2FL5w6rntkw3",
        "outputId": "1e302145-ed13-49e5-f039-9643d61bf640"
      },
      "source": [
        "a =10\n",
        "b= 9\n",
        "c= 8\n",
        "\n",
        "c = print (a>b)"
      ],
      "execution_count": 48,
      "outputs": [
        {
          "output_type": "stream",
          "name": "stdout",
          "text": [
            "True\n"
          ]
        }
      ]
    },
    {
      "cell_type": "code",
      "metadata": {
        "colab": {
          "base_uri": "https://localhost:8080/"
        },
        "id": "Z3Kav1B7t8II",
        "outputId": "74a2aa7b-2471-4ff0-a396-f7141cb2d6b3"
      },
      "source": [
        "print (bool (\"Hello!\"))\n",
        "print (bool(15))\n",
        "print (bool(True))\n",
        "print (bool(False))\n",
        "print (bool(1))\n",
        "print (bool(0))\n",
        "print (bool(None))\n",
        "print (bool([]))\n",
        "print (bool([{}]))\n"
      ],
      "execution_count": 49,
      "outputs": [
        {
          "output_type": "stream",
          "name": "stdout",
          "text": [
            "True\n",
            "True\n",
            "True\n",
            "False\n",
            "True\n",
            "False\n",
            "False\n",
            "False\n",
            "True\n"
          ]
        }
      ]
    },
    {
      "cell_type": "code",
      "metadata": {
        "colab": {
          "base_uri": "https://localhost:8080/"
        },
        "id": "gNz9jIUBu3K6",
        "outputId": "7085ba33-2617-4171-8c8d-96cf9fb9f22e"
      },
      "source": [
        "def myFunction():return True  \n",
        "print (myFunction())"
      ],
      "execution_count": 50,
      "outputs": [
        {
          "output_type": "stream",
          "name": "stdout",
          "text": [
            "True\n"
          ]
        }
      ]
    },
    {
      "cell_type": "code",
      "metadata": {
        "colab": {
          "base_uri": "https://localhost:8080/"
        },
        "id": "TEcdyYN9vS4g",
        "outputId": "e606a1a7-d3c6-41aa-a680-82b91d265926"
      },
      "source": [
        "def myFunction():return True  \n",
        "if myFunction():\n",
        "  print (\"Yes\")\n",
        "else:\n",
        "  print (\"No\")"
      ],
      "execution_count": 51,
      "outputs": [
        {
          "output_type": "stream",
          "name": "stdout",
          "text": [
            "Yes\n"
          ]
        }
      ]
    },
    {
      "cell_type": "code",
      "metadata": {
        "colab": {
          "base_uri": "https://localhost:8080/"
        },
        "id": "iMd1d0Htv0c_",
        "outputId": "2d9204d3-1bef-474d-d84e-8bf0bfbe54a6"
      },
      "source": [
        "def myFunction():return True  \n",
        "if myFunction():\n",
        "  print (\"True\")\n",
        "else:\n",
        "  print (\"False\")"
      ],
      "execution_count": 52,
      "outputs": [
        {
          "output_type": "stream",
          "name": "stdout",
          "text": [
            "True\n"
          ]
        }
      ]
    },
    {
      "cell_type": "code",
      "metadata": {
        "colab": {
          "base_uri": "https://localhost:8080/"
        },
        "id": "l2_GCOKev9LX",
        "outputId": "bbb498b7-4aa4-4e1d-8af3-4e4bc8d361d3"
      },
      "source": [
        "print (10>9)\n",
        "\n",
        "a=6\n",
        "b=7\n",
        "print (a==b)\n",
        "print (6==6)\n",
        "print (a!=a)"
      ],
      "execution_count": 53,
      "outputs": [
        {
          "output_type": "stream",
          "name": "stdout",
          "text": [
            "True\n",
            "False\n",
            "True\n",
            "False\n"
          ]
        }
      ]
    },
    {
      "cell_type": "markdown",
      "metadata": {
        "id": "gAMp0BqJw7XH"
      },
      "source": [
        "##Python Operators"
      ]
    },
    {
      "cell_type": "code",
      "metadata": {
        "colab": {
          "base_uri": "https://localhost:8080/"
        },
        "id": "nVGRh_IWwjzD",
        "outputId": "225f3cea-bed5-4b66-c5fc-5c53d4b5bbee"
      },
      "source": [
        "print (10+5)\n",
        "print (10-5)\n",
        "print (10*5)\n",
        "print (10/5)\n",
        "print (10%5)\n",
        "print (10//3)\n",
        "print (10**2)\n",
        "print (10**2)\n"
      ],
      "execution_count": 44,
      "outputs": [
        {
          "output_type": "stream",
          "name": "stdout",
          "text": [
            "15\n",
            "5\n",
            "50\n",
            "2.0\n",
            "0\n",
            "3\n",
            "100\n",
            "100\n"
          ]
        }
      ]
    },
    {
      "cell_type": "markdown",
      "metadata": {
        "id": "j5HaJtBdycrH"
      },
      "source": [
        "##Bitwise Operators"
      ]
    },
    {
      "cell_type": "code",
      "metadata": {
        "colab": {
          "base_uri": "https://localhost:8080/"
        },
        "id": "sL3O4yHdx8YA",
        "outputId": "7ac38216-9c90-4b0b-a7a0-d0ed95ea787a"
      },
      "source": [
        "a = 60 #0011 1100\n",
        "b = 13\n",
        "\n",
        "print (a^b)\n",
        "print (a & b)\n",
        "print (a | b)\n",
        "print (~a)\n",
        "print (a<<2)\n",
        "print (a>>2) #0000 1111"
      ],
      "execution_count": 62,
      "outputs": [
        {
          "output_type": "stream",
          "name": "stdout",
          "text": [
            "49\n",
            "12\n",
            "61\n",
            "-61\n",
            "240\n",
            "15\n"
          ]
        }
      ]
    },
    {
      "cell_type": "markdown",
      "metadata": {
        "id": "mdoH8DEU0z3n"
      },
      "source": [
        "##Assignment Operator"
      ]
    },
    {
      "cell_type": "code",
      "metadata": {
        "colab": {
          "base_uri": "https://localhost:8080/"
        },
        "id": "C5BH3hA303A4",
        "outputId": "ba373eb1-7cf3-4369-c006-50f526b63ca8"
      },
      "source": [
        "x = 2\n",
        "x+=3 #Same As x=x+3\n",
        "print (x)\n",
        "\n",
        "x"
      ],
      "execution_count": 70,
      "outputs": [
        {
          "output_type": "stream",
          "name": "stdout",
          "text": [
            "5\n"
          ]
        },
        {
          "output_type": "execute_result",
          "data": {
            "text/plain": [
              "5"
            ]
          },
          "metadata": {},
          "execution_count": 70
        }
      ]
    },
    {
      "cell_type": "markdown",
      "metadata": {
        "id": "Rv8nUxCj2aYb"
      },
      "source": [
        "##Logical Operator"
      ]
    },
    {
      "cell_type": "code",
      "metadata": {
        "colab": {
          "base_uri": "https://localhost:8080/"
        },
        "id": "UzI5CJn92gKA",
        "outputId": "273bac5f-57b5-4d00-844d-1499caf6de5b"
      },
      "source": [
        "a = 5\n",
        "b = 6\n",
        "\n",
        "print (a>b and a==a)\n",
        "print (a<b or b==a)"
      ],
      "execution_count": 78,
      "outputs": [
        {
          "output_type": "stream",
          "name": "stdout",
          "text": [
            "False\n",
            "True\n"
          ]
        }
      ]
    },
    {
      "cell_type": "markdown",
      "metadata": {
        "id": "9uK_tJp44Ekl"
      },
      "source": [
        "##Identity Operator "
      ]
    },
    {
      "cell_type": "code",
      "metadata": {
        "colab": {
          "base_uri": "https://localhost:8080/"
        },
        "id": "RR5UikPn4H1d",
        "outputId": "b4c87979-2db1-4a36-be86-bda17618081d"
      },
      "source": [
        "print (a is b)\n",
        "print (a is not b )"
      ],
      "execution_count": 81,
      "outputs": [
        {
          "output_type": "stream",
          "name": "stdout",
          "text": [
            "False\n",
            "True\n"
          ]
        }
      ]
    }
  ]
}