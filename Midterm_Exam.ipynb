{
  "nbformat": 4,
  "nbformat_minor": 0,
  "metadata": {
    "colab": {
      "name": "Midterm Exam.ipynb",
      "provenance": [],
      "authorship_tag": "ABX9TyNTChVQdGjQEjLYF7XQLYuz",
      "include_colab_link": true
    },
    "kernelspec": {
      "name": "python3",
      "display_name": "Python 3"
    },
    "language_info": {
      "name": "python"
    }
  },
  "cells": [
    {
      "cell_type": "markdown",
      "metadata": {
        "id": "view-in-github",
        "colab_type": "text"
      },
      "source": [
        "<a href=\"https://colab.research.google.com/github/rjtelmo/CPEN-21A-ECE-2-2/blob/main/Midterm_Exam.ipynb\" target=\"_parent\"><img src=\"https://colab.research.google.com/assets/colab-badge.svg\" alt=\"Open In Colab\"/></a>"
      ]
    },
    {
      "cell_type": "markdown",
      "metadata": {
        "id": "30i8idA3sEM8"
      },
      "source": [
        "##Problem Statement 1"
      ]
    },
    {
      "cell_type": "code",
      "metadata": {
        "colab": {
          "base_uri": "https://localhost:8080/"
        },
        "id": "t9Yj-FJHsIdp",
        "outputId": "e77ad2a6-fd3e-44b4-ba49-9d1f834eee2d"
      },
      "source": [
        "a = \"Full Name     : Rona Joy Cawaling Telmo\"\n",
        "b = \"Student Number: 202014651\"\n",
        "c = \"Age           : 20 years old\"\n",
        "d = \"Birthday      : November 18, 2001\"\n",
        "e = \"Address       : 265A Ibaba Street, Guyam Malaki, Indang, Cavite, 4122\"\n",
        "f = \"Course        :Bachelor of Science in Electronics and Communication Engineering (BSECE)\"\n",
        "g = \"Last Sem GWA  : 1.32\"\n",
        "print (a)\n",
        "print (b)\n",
        "print (c)\n",
        "print (d)\n",
        "print (e)\n",
        "print (f)\n",
        "print (g)"
      ],
      "execution_count": 25,
      "outputs": [
        {
          "output_type": "stream",
          "name": "stdout",
          "text": [
            "Full Name     : Rona Joy Cawaling Telmo\n",
            "Student Number: 202014651\n",
            "Age           : 20 years old\n",
            "Birthday      : November 18, 2001\n",
            "Address       : 265A Ibaba Street, Guyam Malaki, Indang, Cavite, 4122\n",
            "Course        :Bachelor of Science in Electronics and Communication Engineering (BSECE)\n",
            "Last Sem GWA  : 1.32\n"
          ]
        }
      ]
    },
    {
      "cell_type": "markdown",
      "metadata": {
        "id": "VjRBikANsNs5"
      },
      "source": [
        "##Problem Statement 2"
      ]
    },
    {
      "cell_type": "code",
      "metadata": {
        "colab": {
          "base_uri": "https://localhost:8080/"
        },
        "id": "wL65ZHxYu0SA",
        "outputId": "6f289e73-62e5-4eb4-fc0d-5bd920d74252"
      },
      "source": [
        "n = 4\n",
        "answ = \"Y\"\n",
        "\n",
        "print (2<n and n<6)\n",
        "print (2<n or n==6)\n",
        "print (not 2<n or n==6)\n",
        "print (not n<6)\n",
        "print (answ==\"Y\" or answ==\"y\")\n",
        "print (answ==\"Y\" and answ==\"y\")\n",
        "print (not answ==\"y\")\n",
        "print ((2<n and n==5+1) or (answ==\"No\"))\n",
        "print ((n==2 and n==7) or (answ==\"Y\"))\n",
        "print (n==2)and ((n==7) or (answ==\"Y\"))"
      ],
      "execution_count": 84,
      "outputs": [
        {
          "output_type": "stream",
          "name": "stdout",
          "text": [
            "True\n",
            "True\n",
            "False\n",
            "False\n",
            "True\n",
            "False\n",
            "True\n",
            "False\n",
            "True\n",
            "False\n"
          ]
        }
      ]
    },
    {
      "cell_type": "markdown",
      "metadata": {
        "id": "5LAjOqY0sTVp"
      },
      "source": [
        "##Problem Statement 3"
      ]
    },
    {
      "cell_type": "code",
      "metadata": {
        "colab": {
          "base_uri": "https://localhost:8080/"
        },
        "id": "Jdh0eQQhsXJp",
        "outputId": "cf63165f-62a4-471e-fe43-f07592286c4d"
      },
      "source": [
        "w = 7\n",
        "x = 2\n",
        "y = -3\n",
        "z = -10\n",
        "\n",
        "print (x/y)\n",
        "print (w/y/x)\n",
        "print (z/y%x)\n",
        "print (x%-y*w)\n",
        "print (x%y)\n",
        "print (z%w-y/x*5+5)\n",
        "print (9-x%(2+y))\n",
        "print (z//w)\n",
        "print ((2+y)**2)\n",
        "print (w/x*2)"
      ],
      "execution_count": 28,
      "outputs": [
        {
          "output_type": "stream",
          "name": "stdout",
          "text": [
            "-0.6666666666666666\n",
            "-1.1666666666666667\n",
            "1.3333333333333335\n",
            "14\n",
            "-1\n",
            "16.5\n",
            "9\n",
            "-2\n",
            "1\n",
            "7.0\n"
          ]
        }
      ]
    }
  ]
}